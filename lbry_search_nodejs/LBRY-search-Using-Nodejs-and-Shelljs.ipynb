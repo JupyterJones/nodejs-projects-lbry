{
 "cells": [
  {
   "cell_type": "markdown",
   "metadata": {},
   "source": [
    "# Using a Nodejs Notebook"
   ]
  },
  {
   "cell_type": "code",
   "execution_count": null,
   "metadata": {},
   "outputs": [],
   "source": [
    "const shell = require('shelljs')\n",
    "const readline = require('readline').createInterface({\n",
    "   input: process.stdin,\n",
    "   output: process.stdout\n",
    "});\n",
    "\n",
    "   topic = \"learn_javascript\" \n",
    "   console.log(`Search for: ${topic}`);\n",
    "   shell.exec(`lbrynet claim search --text=${topic} >>${topic}.txt`);\n",
    "   console.log(`\\n`,`The search results are in: ${topic}.txt`);\n",
    "\n",
    "setTimeout(function() {\n",
    "   const readLastLines = require('read-last-lines');\n",
    "   readLastLines.read(`${topic}.txt`, 5)\n",
    "   .then((lines) => console.log('\\n',lines));\n",
    "   }, 3000);\n",
    "\n",
    "readline.close();\n",
    "\n"
   ]
  },
  {
   "cell_type": "code",
   "execution_count": null,
   "metadata": {},
   "outputs": [],
   "source": [
    "var fs = require('fs');\n",
    " \n",
    "var path = \".\";\n",
    " \n",
    "fs.readdir(path, function(err, items) {\n",
    "    console.log(items);\n",
    " \n",
    "    for (var i=0; i<items.length; i++) {\n",
    "        console.log(items[i]);\n",
    "    }\n",
    "});"
   ]
  },
  {
   "cell_type": "code",
   "execution_count": null,
   "metadata": {},
   "outputs": [],
   "source": [
    "var fs = require('fs');\n",
    "\n",
    "fs.readFile('learn_javascript.txt', 'utf8', function(err, data) {\n",
    "    if (err) throw err;\n",
    "    console.log(data);\n",
    "});"
   ]
  },
  {
   "cell_type": "markdown",
   "metadata": {},
   "source": [
    "# Turn into a node script\n",
    "Save as: lbry_search.js <br />\n",
    "Be sure to run: <br /> <br />\n",
    "`chmod +x lbry_search.js` <br /> <br />\n",
    "to make the file executeable"
   ]
  },
  {
   "cell_type": "raw",
   "metadata": {},
   "source": [
    "#!/usr/local/bin/node\n",
    "const shell = require('shelljs')\n",
    "const readline = require('readline').createInterface({\n",
    "   input: process.stdin,\n",
    "   output: process.stdout\n",
    "});\n",
    "\n",
    "readline.question('Search for what ? ', topic => {\n",
    "   console.log(`Search for: ${topic}!`);\n",
    "   shell.exec(`lbrynet claim search --text=${topic} >>${topic}.txt`);\n",
    "   console.log(`\\n`,`The search results are in: ${topic}.txt`);\n",
    "\n",
    "setTimeout(function() {\n",
    "   const readLastLines = require('read-last-lines');\n",
    "   readLastLines.read(`${topic}.txt`, 5)\n",
    "   .then((lines) => console.log('\\n',lines));\n",
    "   }, 3000);\n",
    "\n",
    "readline.close();\n",
    "});\n"
   ]
  },
  {
   "cell_type": "code",
   "execution_count": null,
   "metadata": {},
   "outputs": [],
   "source": []
  },
  {
   "cell_type": "code",
   "execution_count": null,
   "metadata": {
    "code_folding": []
   },
   "outputs": [],
   "source": [
    "const readline = require(\"readline\");\n",
    "const rl = readline.createInterface({\n",
    "    input: process.stdin,\n",
    "    output: process.stdout\n",
    "});\n",
    "\n",
    "rl.question(\"What is your name ? \", function(name) {\n",
    "    rl.question(\"Where do you live ? \", function(country) {\n",
    "        console.log(`${name}, is a citizen of ${country}`);\n",
    "        rl.close();\n",
    "    });\n",
    "});\n",
    "\n",
    "rl.on(\"close\", function() {\n",
    "    console.log(\"\\nBYE BYE !!!\");\n",
    "    process.exit(0);\n",
    "});"
   ]
  },
  {
   "cell_type": "code",
   "execution_count": null,
   "metadata": {},
   "outputs": [],
   "source": []
  }
 ],
 "metadata": {
  "kernelspec": {
   "display_name": "Node.js",
   "language": "javascript",
   "name": "javascript"
  },
  "language_info": {
   "file_extension": ".js",
   "mimetype": "application/javascript",
   "name": "javascript",
   "version": "12.14.0"
  },
  "toc": {
   "base_numbering": 1,
   "nav_menu": {},
   "number_sections": true,
   "sideBar": true,
   "skip_h1_title": false,
   "title_cell": "Table of Contents",
   "title_sidebar": "Contents",
   "toc_cell": false,
   "toc_position": {},
   "toc_section_display": true,
   "toc_window_display": false
  }
 },
 "nbformat": 4,
 "nbformat_minor": 4
}
